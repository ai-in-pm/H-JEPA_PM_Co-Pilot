{
 "cells": [
  {
   "cell_type": "markdown",
   "metadata": {},
   "source": [
    "# Project Manager Co-Pilot Chatbot - Example Usage\n",
    "\n",
    "This notebook demonstrates how to use the Project Manager Co-Pilot Chatbot model for generating responses to user queries."
   ]
  },
  {
   "cell_type": "code",
   "execution_count": null,
   "metadata": {},
   "outputs": [],
   "source": [
    "import sys\n",
    "sys.path.append(\"../src\")\n",
    "from model import generate_response"
   ]
  },
  {
   "cell_type": "markdown",
   "metadata": {},
   "source": [
    "## Example 1: Managing Project Timelines"
   ]
  },
  {
   "cell_type": "code",
   "execution_count": null,
   "metadata": {},
   "outputs": [],
   "source": [
    "context1 = \"How can I effectively manage project timelines?\"\n",
    "response1 = generate_response(context1)\n",
    "print(\"Context:\", context1)\n",
    "print(\"Response:\", response1)"
   ]
  },
  {
   "cell_type": "markdown",
   "metadata": {},
   "source": [
    "## Example 2: Handling Team Conflicts"
   ]
  },
  {
   "cell_type": "code",
   "execution_count": null,
   "metadata": {},
   "outputs": [],
   "source": [
    "context2 = \"What strategies can I use to handle conflicts within my project team?\"\n",
    "response2 = generate_response(context2)\n",
    "print(\"Context:\", context2)\n",
    "print(\"Response:\", response2)"
   ]
  },
  {
   "cell_type": "markdown",
   "metadata": {},
   "source": [
    "## Example 3: Prioritizing Tasks"
   ]
  },
  {
   "cell_type": "code",
   "execution_count": null,
   "metadata": {},
   "outputs": [],
   "source": [
    "context3 = \"How can I prioritize tasks effectively when everything seems important?\"\n",
    "response3 = generate_response(context3)\n",
    "print(\"Context:\", context3)\n",
    "print(\"Response:\", response3)"
   ]
  },
  {
   "cell_type": "markdown",
   "metadata": {},
   "source": [
    "## Example 4: Communicating with Stakeholders"
   ]
  },
  {
   "cell_type": "code",
   "execution_count": null,
   "metadata": {},
   "outputs": [],
   "source": [
    "context4 = \"What are some best practices for communicating project updates to stakeholders?\"\n",
    "response4 = generate_response(context4)\n",
    "print(\"Context:\", context4)\n",
    "print(\"Response:\", response4)"
   ]
  },
  {
   "cell_type": "markdown",
   "metadata": {},
   "source": [
    "Feel free to add more examples or customize the notebook based on your specific use cases and requirements."
   ]
  }
 ],
 "metadata": {
  "kernelspec": {
   "display_name": "Python 3",
   "language": "python",
   "name": "python3"
  },
  "language_info": {
   "codemirror_mode": {
    "name": "ipython",
    "version": 3
   },
   "file_extension": ".py",
   "mimetype": "text/x-python",
   "name": "python",
   "nbconvert_exporter": "python",
   "pygments_lexer": "ipython3",
   "version": "3.x.x"
  }
 },
 "nbformat": 4,
 "nbformat_minor": 4
}
